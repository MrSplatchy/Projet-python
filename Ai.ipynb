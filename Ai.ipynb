{
 "cells": [
  {
   "cell_type": "code",
   "execution_count": 77,
   "metadata": {},
   "outputs": [],
   "source": [
    "import numpy as np\n",
    "import matplotlib.pyplot as plt\n",
    "from sklearn.metrics import accuracy_score\n",
    "from utilities import load_data\n",
    "import tqdm"
   ]
  },
  {
   "cell_type": "code",
   "execution_count": 78,
   "metadata": {},
   "outputs": [],
   "source": [
    "# Generation des donnees\n",
    "X_train, y_train, X_test, y_test = load_data()"
   ]
  },
  {
   "cell_type": "markdown",
   "metadata": {},
   "source": [
    "Fonction du model"
   ]
  },
  {
   "cell_type": "code",
   "execution_count": 79,
   "metadata": {},
   "outputs": [],
   "source": [
    "def Initialiser(Dims):\n",
    "    Params = {}\n",
    "    C = len(Dims)\n",
    "\n",
    "    for c in range(1, C):\n",
    "        Params['W' +  str(c)] = np.random.randn(Dims[c], Dims[c - 1]) * 0.01  # Initialisation plus petite\n",
    "        Params['b' +  str(c)] = np.zeros((Dims[c], 1))  # Initialisation à zéro\n",
    "\n",
    "    return Params"
   ]
  },
  {
   "cell_type": "code",
   "execution_count": 80,
   "metadata": {},
   "outputs": [],
   "source": [
    "def ForwardPropagation(X, Params):\n",
    "    Activations = {'A0' : X}\n",
    "    C = len(Params) // 2\n",
    "\n",
    "    for c in range(1, C + 1):  \n",
    "        Z = np.dot(Params['W' + str(c)], Activations['A' + str(c - 1)]) + Params['b' + str(c)] \n",
    "        Activations['A' + str(c)] = 1 / (1 + np.exp(-Z))\n",
    "\n",
    "    return Activations"
   ]
  },
  {
   "cell_type": "code",
   "execution_count": 99,
   "metadata": {},
   "outputs": [],
   "source": [
    "def BackPropagation(Activations, Params, y):\n",
    "    m = y.shape[1]\n",
    "    C = len(Params) // 2\n",
    "    Gradients = {}\n",
    "\n",
    "    dZ = Activations['A' + str(C)] - y\n",
    "\n",
    "    for c in reversed(range(1, C + 1)):\n",
    "        Gradients['dW' + str(c)] = 1/m * np.dot(dZ, Activations['A' + str(c - 1)].T)\n",
    "        Gradients['db' + str(c)] = 1/m * np.sum(dZ, axis=1, keepdims=True)\n",
    "    if c > 1:\n",
    "      dZ = np.dot(Params['W' + str(c)].T, dZ) * Activations['A' + str(c - 1)] * (1 - Activations['A' + str(c - 1)])\n",
    "\n",
    "    return Gradients"
   ]
  },
  {
   "cell_type": "code",
   "execution_count": 82,
   "metadata": {},
   "outputs": [],
   "source": [
    "def Update(Params, Gradients, learning_rate):\n",
    "    C = len(Params) // 2\n",
    "\n",
    "    for c in range(1, C + 1):\n",
    "        Params['W' + str(c)] -= learning_rate * Gradients['dW' + str(c)]\n",
    "        Params['b' + str(c)] -= learning_rate * Gradients['db' + str(c)]\n",
    "    return Params"
   ]
  },
  {
   "cell_type": "code",
   "execution_count": 83,
   "metadata": {},
   "outputs": [],
   "source": [
    "def Predict(X, Params):\n",
    "    Activations = ForwardPropagation(X, Params)\n",
    "    A = Activations['A' + str(len(Activations) - 1)]\n",
    "    return (A >= 0.5).astype(int)"
   ]
  },
  {
   "cell_type": "code",
   "execution_count": 84,
   "metadata": {
    "slideshow": {
     "slide_type": "slide"
    }
   },
   "outputs": [],
   "source": [
    "def LogLoss(A, y):\n",
    "    epsilon = 1e-15\n",
    "    return -1 / y.shape[1] * np.sum(y * np.log(A + epsilon) + (1 - y) * np.log(1 - A + epsilon))"
   ]
  },
  {
   "cell_type": "code",
   "execution_count": 90,
   "metadata": {},
   "outputs": [],
   "source": [
    "def Update(Params, Gradients, learning_rate):\n",
    "    C = len(Params) // 2\n",
    "\n",
    "    for c in range(1, C + 1):\n",
    "        Params['W' + str(c)] = Params['W' + str(c)] - learning_rate * Gradients['dW' + str(c)]\n",
    "        Params['b' + str(c)] = Params['b' + str(c)] - learning_rate * Gradients['db' + str(c)]\n",
    "\n",
    "    return Params"
   ]
  },
  {
   "cell_type": "markdown",
   "metadata": {},
   "source": [
    "    Creation du model"
   ]
  },
  {
   "cell_type": "code",
   "execution_count": 86,
   "metadata": {},
   "outputs": [],
   "source": [
    "def NeuronNetwork(X_train, y_train, X_test, y_test, hidden_layers = (32, 32, 32), n_iter=10000, learning_rate=0.01):\n",
    "    Dims = [X_train.shape[0]] + list(hidden_layers) + [y_train.shape[0]]\n",
    "    Params = Initialiser(Dims)\n",
    "\n",
    "    TrainLoss, TrainAcc, TestLoss, TestAcc = [], [], [], []\n",
    "\n",
    "    for i in tqdm.tqdm(range(n_iter)):\n",
    "        Activations_train = ForwardPropagation(X_train, Params)\n",
    "        Gradients = BackPropagation(Activations_train, Params, y_train)\n",
    "        Params = Update(Params, Gradients, learning_rate)\n",
    "\n",
    "        if i % 10 == 0:\n",
    "            C = len(Params) // 2\n",
    "            TrainLoss.append(LogLoss(Activations_train['A' + str(C)], y_train)) \n",
    "            y_pred_train = Predict(X_train, Params)\n",
    "            TrainAcc.append(accuracy_score(y_train.flatten(), y_pred_train.flatten()))\n",
    "            \n",
    "            Activations_test = ForwardPropagation(X_test, Params)\n",
    "            TestLoss.append(LogLoss(Activations_test['A' + str(C)], y_test)) \n",
    "            y_pred_test = Predict(X_test, Params)\n",
    "            TestAcc.append(accuracy_score(y_test.flatten(), y_pred_test.flatten()))\n",
    "\n",
    "    print(f\"Bonne prédiction à {accuracy_score(y_test.flatten(), y_pred_test.flatten()) * 100:.2f}%\")\n",
    "\n",
    "    plt.figure(figsize=(14, 7))\n",
    "    plt.subplot(1, 2, 1)\n",
    "    plt.plot(TrainLoss, label='Train Loss')\n",
    "    plt.plot(TestLoss, label='Test Loss')\n",
    "    plt.legend()\n",
    "    plt.subplot(1, 2, 2)\n",
    "    plt.plot(TrainAcc, label='Train Accuracy')    \n",
    "    plt.plot(TestAcc, label='Test Accuracy')\n",
    "    plt.legend()\n",
    "    plt.show()\n",
    "        \n",
    "    return Params"
   ]
  },
  {
   "cell_type": "markdown",
   "metadata": {},
   "source": [
    "Normalisation et reshapes des données"
   ]
  },
  {
   "cell_type": "code",
   "execution_count": 102,
   "metadata": {},
   "outputs": [
    {
     "name": "stdout",
     "output_type": "stream",
     "text": [
      "(4096, 1000)\n",
      "(1, 64)\n",
      "(4096, 200)\n",
      "(1, 64)\n"
     ]
    },
    {
     "name": "stderr",
     "output_type": "stream",
     "text": [
      "  0%|          | 0/50000 [00:00<?, ?it/s]\n"
     ]
    },
    {
     "ename": "ValueError",
     "evalue": "operands could not be broadcast together with shapes (1,1000) (1,64) ",
     "output_type": "error",
     "traceback": [
      "\u001b[0;31m---------------------------------------------------------------------------\u001b[0m",
      "\u001b[0;31mValueError\u001b[0m                                Traceback (most recent call last)",
      "Cell \u001b[0;32mIn[102], line 25\u001b[0m\n\u001b[1;32m     22\u001b[0m \u001b[38;5;28mprint\u001b[39m(X_test_reshape\u001b[38;5;241m.\u001b[39mshape)\n\u001b[1;32m     23\u001b[0m \u001b[38;5;28mprint\u001b[39m(y_test\u001b[38;5;241m.\u001b[39mshape)\n\u001b[0;32m---> 25\u001b[0m Params \u001b[38;5;241m=\u001b[39m \u001b[43mNeuronNetwork\u001b[49m\u001b[43m(\u001b[49m\u001b[43mX_train_reshape\u001b[49m\u001b[43m,\u001b[49m\u001b[43m \u001b[49m\u001b[43my_train\u001b[49m\u001b[43m,\u001b[49m\u001b[43m \u001b[49m\u001b[43mX_test_reshape\u001b[49m\u001b[43m,\u001b[49m\u001b[43m \u001b[49m\u001b[43my_test\u001b[49m\u001b[43m,\u001b[49m\u001b[43m \u001b[49m\u001b[43mn_iter\u001b[49m\u001b[38;5;241;43m=\u001b[39;49m\u001b[38;5;241;43m50000\u001b[39;49m\u001b[43m,\u001b[49m\u001b[43m \u001b[49m\u001b[43mlearning_rate\u001b[49m\u001b[38;5;241;43m=\u001b[39;49m\u001b[38;5;241;43m0.0005\u001b[39;49m\u001b[43m)\u001b[49m\n",
      "Cell \u001b[0;32mIn[86], line 9\u001b[0m, in \u001b[0;36mNeuronNetwork\u001b[0;34m(X_train, y_train, X_test, y_test, hidden_layers, n_iter, learning_rate)\u001b[0m\n\u001b[1;32m      7\u001b[0m \u001b[38;5;28;01mfor\u001b[39;00m i \u001b[38;5;129;01min\u001b[39;00m tqdm\u001b[38;5;241m.\u001b[39mtqdm(\u001b[38;5;28mrange\u001b[39m(n_iter)):\n\u001b[1;32m      8\u001b[0m     Activations_train \u001b[38;5;241m=\u001b[39m ForwardPropagation(X_train, Params)\n\u001b[0;32m----> 9\u001b[0m     Gradients \u001b[38;5;241m=\u001b[39m \u001b[43mBackPropagation\u001b[49m\u001b[43m(\u001b[49m\u001b[43mActivations_train\u001b[49m\u001b[43m,\u001b[49m\u001b[43m \u001b[49m\u001b[43mParams\u001b[49m\u001b[43m,\u001b[49m\u001b[43m \u001b[49m\u001b[43my_train\u001b[49m\u001b[43m)\u001b[49m\n\u001b[1;32m     10\u001b[0m     Params \u001b[38;5;241m=\u001b[39m Update(Params, Gradients, learning_rate)\n\u001b[1;32m     12\u001b[0m     \u001b[38;5;28;01mif\u001b[39;00m i \u001b[38;5;241m%\u001b[39m \u001b[38;5;241m10\u001b[39m \u001b[38;5;241m==\u001b[39m \u001b[38;5;241m0\u001b[39m:\n",
      "Cell \u001b[0;32mIn[99], line 6\u001b[0m, in \u001b[0;36mBackPropagation\u001b[0;34m(Activations, Params, y)\u001b[0m\n\u001b[1;32m      3\u001b[0m C \u001b[38;5;241m=\u001b[39m \u001b[38;5;28mlen\u001b[39m(Params) \u001b[38;5;241m/\u001b[39m\u001b[38;5;241m/\u001b[39m \u001b[38;5;241m2\u001b[39m\n\u001b[1;32m      4\u001b[0m Gradients \u001b[38;5;241m=\u001b[39m {}\n\u001b[0;32m----> 6\u001b[0m dZ \u001b[38;5;241m=\u001b[39m \u001b[43mActivations\u001b[49m\u001b[43m[\u001b[49m\u001b[38;5;124;43m'\u001b[39;49m\u001b[38;5;124;43mA\u001b[39;49m\u001b[38;5;124;43m'\u001b[39;49m\u001b[43m \u001b[49m\u001b[38;5;241;43m+\u001b[39;49m\u001b[43m \u001b[49m\u001b[38;5;28;43mstr\u001b[39;49m\u001b[43m(\u001b[49m\u001b[43mC\u001b[49m\u001b[43m)\u001b[49m\u001b[43m]\u001b[49m\u001b[43m \u001b[49m\u001b[38;5;241;43m-\u001b[39;49m\u001b[43m \u001b[49m\u001b[43my\u001b[49m\n\u001b[1;32m      8\u001b[0m \u001b[38;5;28;01mfor\u001b[39;00m c \u001b[38;5;129;01min\u001b[39;00m \u001b[38;5;28mreversed\u001b[39m(\u001b[38;5;28mrange\u001b[39m(\u001b[38;5;241m1\u001b[39m, C \u001b[38;5;241m+\u001b[39m \u001b[38;5;241m1\u001b[39m)):\n\u001b[1;32m      9\u001b[0m     Gradients[\u001b[38;5;124m'\u001b[39m\u001b[38;5;124mdW\u001b[39m\u001b[38;5;124m'\u001b[39m \u001b[38;5;241m+\u001b[39m \u001b[38;5;28mstr\u001b[39m(c)] \u001b[38;5;241m=\u001b[39m \u001b[38;5;241m1\u001b[39m\u001b[38;5;241m/\u001b[39mm \u001b[38;5;241m*\u001b[39m np\u001b[38;5;241m.\u001b[39mdot(dZ, Activations[\u001b[38;5;124m'\u001b[39m\u001b[38;5;124mA\u001b[39m\u001b[38;5;124m'\u001b[39m \u001b[38;5;241m+\u001b[39m \u001b[38;5;28mstr\u001b[39m(c \u001b[38;5;241m-\u001b[39m \u001b[38;5;241m1\u001b[39m)]\u001b[38;5;241m.\u001b[39mT)\n",
      "\u001b[0;31mValueError\u001b[0m: operands could not be broadcast together with shapes (1,1000) (1,64) "
     ]
    }
   ],
   "source": [
    "# Normalisation des données\n",
    "X_train = X_train\n",
    "X_train = X_train / np.max(X_train)\n",
    "X_test = X_test\n",
    "X_test = X_test / np.max(X_train)  # Utiliser le max de X_train pour normaliser X_test\n",
    "\n",
    "X_train_reshape = X_train.reshape(X_train.shape[0],-1 ).T\n",
    "X_test_reshape = X_test.reshape(X_test.shape[0], -1 ).T\n",
    "\n",
    "y_train = y_train.T\n",
    "y_test = y_test.T\n",
    "\n",
    "m_train = 1000\n",
    "m_test = 200\n",
    "X_test = X_test[:, :m_test]\n",
    "y_test = y_test[:, :m_test]\n",
    "X_train = X_train[:, :m_train]\n",
    "y_train = y_train[:, :m_train]\n",
    "\n",
    "print(X_train_reshape.shape)\n",
    "print(y_train.shape)\n",
    "print(X_test_reshape.shape)\n",
    "print(y_test.shape)\n",
    "\n",
    "Params = NeuronNetwork(X_train_reshape, y_train, X_test_reshape, y_test, n_iter=50000, learning_rate=0.0005)"
   ]
  }
 ],
 "metadata": {
  "kernelspec": {
   "display_name": "Python 3",
   "language": "python",
   "name": "python3"
  },
  "language_info": {
   "codemirror_mode": {
    "name": "ipython",
    "version": 3
   },
   "file_extension": ".py",
   "mimetype": "text/x-python",
   "name": "python",
   "nbconvert_exporter": "python",
   "pygments_lexer": "ipython3",
   "version": "3.12.4"
  }
 },
 "nbformat": 4,
 "nbformat_minor": 2
}
