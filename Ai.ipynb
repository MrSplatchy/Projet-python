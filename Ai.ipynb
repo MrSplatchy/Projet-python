{
 "cells": [
  {
   "cell_type": "code",
   "execution_count": null,
   "metadata": {},
   "outputs": [],
   "source": [
    "import numpy as np\n",
    "import matplotlib.pyplot as plt\n",
    "from sklearn.metrics import accuracy_score\n",
    "from utilities import load_data\n",
    "import tqdm"
   ]
  },
  {
   "cell_type": "code",
   "execution_count": null,
   "metadata": {},
   "outputs": [],
   "source": [
    "# Generation des donnees\n",
    "X_train, y_train, X_test, y_test = load_data()"
   ]
  },
  {
   "cell_type": "markdown",
   "metadata": {},
   "source": [
    "Fonction du model"
   ]
  },
  {
   "cell_type": "code",
   "execution_count": null,
   "metadata": {},
   "outputs": [],
   "source": [
    "def Initialiser(Dims):\n",
    "    Params = {}\n",
    "    C = len(Dims)\n",
    "\n",
    "    for c in range(1, C):\n",
    "        Params['W' +  str(c)] = np.random.randn(Dims[c], Dims[c - 1]) * 0.01  # Initialisation plus petite\n",
    "        Params['b' +  str(c)] = np.zeros((Dims[c], 1))  # Initialisation à zéro\n",
    "\n",
    "    return Params"
   ]
  },
  {
   "cell_type": "code",
   "execution_count": null,
   "metadata": {},
   "outputs": [],
   "source": [
    "def ForwardPropagation(X, Params):\n",
    "    Activations = {'A0' : X}\n",
    "    C = len(Params) // 2\n",
    "\n",
    "    for c in range(1, C + 1):  \n",
    "        Z = np.dot(Params['W' + str(c)], Activations['A' + str(c - 1)]) + Params['b' + str(c)] \n",
    "        Activations['A' + str(c)] = 1 / (1 + np.exp(-Z))\n",
    "\n",
    "    return Activations"
   ]
  },
  {
   "cell_type": "code",
   "execution_count": null,
   "metadata": {},
   "outputs": [],
   "source": [
    "def BackPropagation(Activations, Params, y):\n",
    "    m = y.shape[1]\n",
    "    C = len(Params) // 2\n",
    "    Gradients = {}\n",
    "\n",
    "    dZ = Activations['A' + str(C)] - y\n",
    "\n",
    "    for c in reversed(range(1, C + 1)):\n",
    "        Gradients['dW' + str(c)] = 1 / m * np.dot(dZ, Activations['A' + str(c-1)].T)\n",
    "        Gradients['db' + str(c)] = 1 / m * np.sum(dZ, axis=1, keepdims=True)\n",
    "        \n",
    "        if c > 1:\n",
    "            dZ = np.dot(Params['W' + str(c)].T, dZ) * Activations['A' + str(c-1)] * (1 - Activations['A' + str(c-1)])\n",
    "\n",
    "    return Gradients"
   ]
  },
  {
   "cell_type": "code",
   "execution_count": null,
   "metadata": {},
   "outputs": [],
   "source": [
    "def Update(Params, Gradients, learning_rate):\n",
    "    C = len(Params) // 2\n",
    "\n",
    "    for c in range(1, C + 1):\n",
    "        Params['W' + str(c)] -= learning_rate * Gradients['dW' + str(c)]\n",
    "        Params['b' + str(c)] -= learning_rate * Gradients['db' + str(c)]\n",
    "    return Params"
   ]
  },
  {
   "cell_type": "code",
   "execution_count": null,
   "metadata": {},
   "outputs": [],
   "source": [
    "def Predict(X, Params):\n",
    "    Activations = ForwardPropagation(X, Params)\n",
    "    A = Activations['A' + str(len(Activations) - 1)]\n",
    "    return (A >= 0.5).astype(int)"
   ]
  },
  {
   "cell_type": "code",
   "execution_count": null,
   "metadata": {
    "slideshow": {
     "slide_type": "slide"
    }
   },
   "outputs": [],
   "source": [
    "def LogLoss(A, y):\n",
    "    epsilon = 1e-15\n",
    "    return -1 / y.shape[1] * np.sum(y * np.log(A + epsilon) + (1 - y) * np.log(1 - A + epsilon))"
   ]
  },
  {
   "cell_type": "code",
   "execution_count": null,
   "metadata": {},
   "outputs": [],
   "source": [
    "def Update(Params, Gradients, learning_rate):\n",
    "    C = len(Params) // 2\n",
    "\n",
    "    for c in range(1, C + 1):\n",
    "        Params['W' + str(c)] -= learning_rate * Gradients['dW' + str(c)]\n",
    "        Params['b' + str(c)] -= learning_rate * Gradients['db' + str(c)]\n",
    "    return Params"
   ]
  },
  {
   "cell_type": "markdown",
   "metadata": {},
   "source": [
    "    Creation du model"
   ]
  },
  {
   "cell_type": "code",
   "execution_count": null,
   "metadata": {},
   "outputs": [],
   "source": [
    "def NeuronNetwork(X_train, y_train, X_test, y_test, hidden_layers = (32, 32, 32), n_iter=10000, learning_rate=0.01):\n",
    "    Dims = [X_train.shape[0]] + list(hidden_layers) + [y_train.shape[0]]\n",
    "    Params = Initialiser(Dims)\n",
    "\n",
    "    TrainLoss, TrainAcc, TestLoss, TestAcc = [], [], [], []\n",
    "\n",
    "    for i in tqdm.tqdm(range(n_iter)):\n",
    "        Activations_train = ForwardPropagation(X_train, Params)\n",
    "        Gradients = BackPropagation(Activations_train, Params, y_train)\n",
    "        Params = Update(Params, Gradients, learning_rate)\n",
    "\n",
    "        if i % 10 == 0:\n",
    "            C = len(Params) // 2\n",
    "            TrainLoss.append(LogLoss(Activations_train['A' + str(C)], y_train)) \n",
    "            y_pred_train = Predict(X_train, Params)\n",
    "            TrainAcc.append(accuracy_score(y_train.flatten(), y_pred_train.flatten()))\n",
    "            \n",
    "            Activations_test = ForwardPropagation(X_test, Params)\n",
    "            TestLoss.append(LogLoss(Activations_test['A' + str(C)], y_test)) \n",
    "            y_pred_test = Predict(X_test, Params)\n",
    "            TestAcc.append(accuracy_score(y_test.flatten(), y_pred_test.flatten()))\n",
    "\n",
    "    print(f\"Bonne prédiction à {accuracy_score(y_test.flatten(), y_pred_test.flatten()) * 100:.2f}%\")\n",
    "\n",
    "    plt.figure(figsize=(14, 7))\n",
    "    plt.subplot(1, 2, 1)\n",
    "    plt.plot(TrainLoss, label='Train Loss')\n",
    "    plt.plot(TestLoss, label='Test Loss')\n",
    "    plt.legend()\n",
    "    plt.subplot(1, 2, 2)\n",
    "    plt.plot(TrainAcc, label='Train Accuracy')    \n",
    "    plt.plot(TestAcc, label='Test Accuracy')\n",
    "    plt.legend()\n",
    "    plt.show()\n",
    "        \n",
    "    return Params"
   ]
  },
  {
   "cell_type": "markdown",
   "metadata": {},
   "source": [
    "Normalisation et reshapes des données"
   ]
  },
  {
   "cell_type": "code",
   "execution_count": null,
   "metadata": {},
   "outputs": [],
   "source": [
    "# Normalisation des données\n",
    "X_train = X_train.T\n",
    "X_train = X_train / np.max(X_train)\n",
    "X_test = X_test.T\n",
    "X_test = X_test / np.max(X_train)  # Utiliser le max de X_train pour normaliser X_test\n",
    "\n",
    "\n",
    "\n",
    "y_train = y_train.T\n",
    "y_test = y_test.T\n",
    "\n",
    "m_train = min(1000, X_train.shape[1])\n",
    "m_test = min(200, X_test.shape[1])\n",
    "X_test = X_test[:, :m_test]\n",
    "y_test = y_test[:, :m_test]\n",
    "X_train = X_train[:, :m_train]\n",
    "y_train = y_train[:, :m_train]\n",
    "\n",
    "print(X_train.shape)\n",
    "print(y_train.shape)\n",
    "print(X_test.shape)\n",
    "print(y_test.shape)\n",
    "\n",
    "Params = NeuronNetwork(X_train, y_train, X_test, y_test, n_iter=50000, learning_rate=0.0005)"
   ]
  }
 ],
 "metadata": {
  "language_info": {
   "name": "python"
  }
 },
 "nbformat": 4,
 "nbformat_minor": 2
}
